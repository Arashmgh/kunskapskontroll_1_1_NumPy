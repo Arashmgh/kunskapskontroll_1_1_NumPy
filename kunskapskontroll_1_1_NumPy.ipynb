{
 "cells": [
  {
   "cell_type": "code",
   "execution_count": 4,
   "id": "643d896c-5864-4fbe-a12a-34248a9fc8b7",
   "metadata": {},
   "outputs": [
    {
     "name": "stdout",
     "output_type": "stream",
     "text": [
      "Dimensions (ndim): 2\n",
      "Shape: (3, 5)\n",
      "Size: 15\n",
      "Data Type: int32\n"
     ]
    }
   ],
   "source": [
    "import numpy as np\n",
    "\n",
    "A = np.arange(1, 16).reshape(3, 5)\n",
    "\n",
    "print(\"Dimensions (ndim):\", A.ndim)  # number of axes\n",
    "print(\"Shape:\", A.shape)  # shape of the matrix\n",
    "print(\"Size:\", A.size)  # total number of elements\n",
    "print(\"Data Type:\", A.dtype)  # data type of the elements\n"
   ]
  },
  {
   "cell_type": "markdown",
   "id": "2ed2afad-d97d-4c41-9b1a-ada6ee451ef0",
   "metadata": {},
   "source": [
    "## Exercise 1"
   ]
  },
  {
   "cell_type": "markdown",
   "id": "9de2008e-71a4-4ba9-b266-cf2e02ec1cfb",
   "metadata": {},
   "source": [
    "## Exercise 2"
   ]
  },
  {
   "cell_type": "code",
   "execution_count": 6,
   "id": "387e4891-22b5-4d68-8f17-720a903c28d3",
   "metadata": {},
   "outputs": [
    {
     "name": "stdout",
     "output_type": "stream",
     "text": [
      "[[1 2 3]\n",
      " [4 5 6]\n",
      " [7 8 9]]\n",
      "\n",
      "[[2. 2. 2.]\n",
      " [2. 2. 2.]\n",
      " [2. 2. 2.]]\n"
     ]
    }
   ],
   "source": [
    "B = np.arange(1, 10).reshape(3, 3)\n",
    "C = np.ones((3, 3))*2\n",
    "\n",
    "print(B)\n",
    "print()\n",
    "print(C)"
   ]
  },
  {
   "cell_type": "code",
   "execution_count": 7,
   "id": "0468c2fd-604f-41cc-9f0b-0e7e56bfec21",
   "metadata": {},
   "outputs": [
    {
     "name": "stdout",
     "output_type": "stream",
     "text": [
      "Elementwise Subtraction:\n",
      "[[-1.  0.  1.]\n",
      " [ 2.  3.  4.]\n",
      " [ 5.  6.  7.]]\n",
      "\n",
      "Elementwise Multiplication:\n",
      "[[ 2.  4.  6.]\n",
      " [ 8. 10. 12.]\n",
      " [14. 16. 18.]]\n",
      "\n",
      "Matrix Multiplication:\n",
      "[[12. 12. 12.]\n",
      " [30. 30. 30.]\n",
      " [48. 48. 48.]]\n"
     ]
    }
   ],
   "source": [
    "B = np.arange(1, 10).reshape(3, 3)\n",
    "C = np.ones((3, 3)) * 2\n",
    "\n",
    "print(\"Elementwise Subtraction:\")\n",
    "print(B - C)\n",
    "\n",
    "print(\"\\nElementwise Multiplication:\")\n",
    "print(B * C)\n",
    "\n",
    "print(\"\\nMatrix Multiplication:\")\n",
    "print(B @ C)\n"
   ]
  },
  {
   "cell_type": "markdown",
   "id": "93b6aa89-4ef7-4615-a6b0-56737faed864",
   "metadata": {},
   "source": [
    "## Exercise 3"
   ]
  },
  {
   "cell_type": "code",
   "execution_count": 8,
   "id": "8dccd927-5666-415e-8927-b3a86e73faf7",
   "metadata": {},
   "outputs": [
    {
     "name": "stdout",
     "output_type": "stream",
     "text": [
      "Exponentiation (elementwise):\n",
      "[[2.71828183e+00 7.38905610e+00 2.00855369e+01]\n",
      " [5.45981500e+01 1.48413159e+02 4.03428793e+02]\n",
      " [1.09663316e+03 2.98095799e+03 8.10308393e+03]]\n",
      "\n",
      "Minimum value in the matrix:\n",
      "1\n",
      "\n",
      "Minimum value in each row:\n",
      "[1 4 7]\n",
      "\n",
      "Minimum value in each column:\n",
      "[1 2 3]\n",
      "\n",
      "Index of the minimum value in the matrix:\n",
      "0\n",
      "\n",
      "Index of the minimum value in each row:\n",
      "[0 0 0]\n",
      "\n",
      "Sum of all elements:\n",
      "45\n",
      "\n",
      "Mean for each column:\n",
      "[4. 5. 6.]\n",
      "\n",
      "Median for each column:\n",
      "[4. 5. 6.]\n"
     ]
    }
   ],
   "source": [
    "B = np.arange(1, 10).reshape(3, 3)\n",
    "\n",
    "print(\"Exponentiation (elementwise):\")\n",
    "print(np.exp(B))\n",
    "\n",
    "print(\"\\nMinimum value in the matrix:\")\n",
    "print(np.min(B))\n",
    "\n",
    "print(\"\\nMinimum value in each row:\")\n",
    "print(np.min(B, axis=1))\n",
    "\n",
    "print(\"\\nMinimum value in each column:\")\n",
    "print(np.min(B, axis=0))\n",
    "\n",
    "print(\"\\nIndex of the minimum value in the matrix:\")\n",
    "print(np.argmin(B))\n",
    "\n",
    "print(\"\\nIndex of the minimum value in each row:\")\n",
    "print(np.argmin(B, axis=1))\n",
    "\n",
    "print(\"\\nSum of all elements:\")\n",
    "print(np.sum(B))\n",
    "\n",
    "print(\"\\nMean for each column:\")\n",
    "print(np.mean(B, axis=0))\n",
    "\n",
    "print(\"\\nMedian for each column:\")\n",
    "print(np.median(B, axis=0))\n"
   ]
  },
  {
   "cell_type": "markdown",
   "id": "ccca14b7-949a-4d45-b0a3-e5518db6c984",
   "metadata": {},
   "source": [
    "## Exercise 4"
   ]
  },
  {
   "cell_type": "code",
   "execution_count": 10,
   "id": "5dbcc1fa-9fe2-4ded-9a93-fc40c2d90cfa",
   "metadata": {},
   "outputs": [
    {
     "name": "stdout",
     "output_type": "stream",
     "text": [
      "Matrix A:\n",
      "[[ 1  2  3  4  5]\n",
      " [ 6  7  8  9 10]\n",
      " [11 12 13 14 15]]\n",
      "\n",
      "Slicing with fewer indices (A[1]):\n",
      "[ 6  7  8  9 10]\n"
     ]
    }
   ],
   "source": [
    "A = np.arange(1, 16).reshape(3, 5)\n",
    "print(\"Matrix A:\")\n",
    "print(A)\n",
    "\n",
    "print(\"\\nSlicing with fewer indices (A[1]):\")\n",
    "print(A[1])\n"
   ]
  },
  {
   "cell_type": "markdown",
   "id": "42b0bd81-c074-43f0-ac5a-e3c55afde0eb",
   "metadata": {},
   "source": [
    "## Exercise 5"
   ]
  },
  {
   "cell_type": "code",
   "execution_count": 12,
   "id": "57ac9abf-e852-44bb-8a6b-0d5f538eed3d",
   "metadata": {},
   "outputs": [
    {
     "name": "stdout",
     "output_type": "stream",
     "text": [
      "Matrix A:\n",
      "[[ 1  2  3  4  5]\n",
      " [ 6  7  8  9 10]\n",
      " [11 12 13 14 15]]\n",
      "\n",
      "Iterating over all elements elementwise:\n",
      "1 2 3 4 5 6 7 8 9 10 11 12 13 14 15 "
     ]
    }
   ],
   "source": [
    "A = np.arange(1, 16).reshape(3, 5)\n",
    "print(\"Matrix A:\")\n",
    "print(A)\n",
    "\n",
    "print(\"\\nIterating over all elements elementwise:\")\n",
    "for element in np.nditer(A):\n",
    "    print(element, end=\" \")\n"
   ]
  },
  {
   "cell_type": "markdown",
   "id": "1d7147d0-1eeb-4359-8750-2367316e0228",
   "metadata": {},
   "source": [
    "## Exercise 6"
   ]
  },
  {
   "cell_type": "code",
   "execution_count": 13,
   "id": "4290b6cf-3a61-4a6a-9e8a-cb74d5debf13",
   "metadata": {},
   "outputs": [
    {
     "name": "stdout",
     "output_type": "stream",
     "text": [
      "[ 0  1  2  3  4  5  6  7  8  9 10 11 12 13 14 15 16 17 18 19 20 21 22 23\n",
      " 24 25 26 27 28 29]\n",
      "\n",
      "[[[ 0  1  2  3  4]\n",
      "  [ 5  6  7  8  9]\n",
      "  [10 11 12 13 14]]\n",
      "\n",
      " [[15 16 17 18 19]\n",
      "  [20 21 22 23 24]\n",
      "  [25 26 27 28 29]]]\n"
     ]
    }
   ],
   "source": [
    "a = np.arange(30)\n",
    "b = a.reshape((2, 3, -1))\n",
    "print(a)\n",
    "print()\n",
    "\n",
    "print(b)"
   ]
  },
  {
   "cell_type": "code",
   "execution_count": 14,
   "id": "d5d61634-7015-4a4a-8462-d36107f0cf44",
   "metadata": {},
   "outputs": [
    {
     "name": "stdout",
     "output_type": "stream",
     "text": [
      "Array a:\n",
      "[ 0  1  2  3  4  5  6  7  8  9 10 11 12 13 14 15 16 17 18 19 20 21 22 23\n",
      " 24 25 26 27 28 29]\n",
      "\n",
      "Reshaped Array b:\n",
      "[[[ 0  1  2  3  4]\n",
      "  [ 5  6  7  8  9]\n",
      "  [10 11 12 13 14]]\n",
      "\n",
      " [[15 16 17 18 19]\n",
      "  [20 21 22 23 24]\n",
      "  [25 26 27 28 29]]]\n"
     ]
    }
   ],
   "source": [
    "a = np.arange(30)\n",
    "b = a.reshape((2, 3, -1))\n",
    "\n",
    "print(\"Array a:\")\n",
    "print(a)\n",
    "\n",
    "print(\"\\nReshaped Array b:\")\n",
    "print(b)\n"
   ]
  },
  {
   "cell_type": "markdown",
   "id": "d0f0a969-39bc-4fd3-aba4-02b81390fc6e",
   "metadata": {},
   "source": [
    "## Exercise 7"
   ]
  },
  {
   "cell_type": "code",
   "execution_count": 15,
   "id": "47ba6d8e-fbac-41c0-8bc7-994acf1815fb",
   "metadata": {},
   "outputs": [
    {
     "name": "stdout",
     "output_type": "stream",
     "text": [
      "[[2 3]\n",
      " [4 5]]\n"
     ]
    }
   ],
   "source": [
    "m1 = np.array([[1, 2], [3, 4]])\n",
    "m2 = np.array([1, 1])\n",
    "print(m1 + m2)"
   ]
  },
  {
   "cell_type": "code",
   "execution_count": 16,
   "id": "2baf88fb-93c4-4a65-b8d6-99a511ee3b65",
   "metadata": {},
   "outputs": [
    {
     "name": "stdout",
     "output_type": "stream",
     "text": [
      "Matrix m1:\n",
      "[[1 2]\n",
      " [3 4]]\n",
      "\n",
      "Matrix m2:\n",
      "[1 1]\n",
      "\n",
      "m1 + m2 (with broadcasting):\n",
      "[[2 3]\n",
      " [4 5]]\n"
     ]
    }
   ],
   "source": [
    "m1 = np.array([[1, 2], [3, 4]])\n",
    "m2 = np.array([1, 1])\n",
    "\n",
    "print(\"Matrix m1:\")\n",
    "print(m1)\n",
    "\n",
    "print(\"\\nMatrix m2:\")\n",
    "print(m2)\n",
    "\n",
    "print(\"\\nm1 + m2 (with broadcasting):\")\n",
    "print(m1 + m2)\n"
   ]
  },
  {
   "cell_type": "markdown",
   "id": "d040b3ad-585d-420e-b726-8bc56afc2929",
   "metadata": {},
   "source": [
    "## Exercise 8"
   ]
  },
  {
   "cell_type": "code",
   "execution_count": 17,
   "id": "c34249a0-f539-4670-809b-747c00c5d476",
   "metadata": {},
   "outputs": [
    {
     "name": "stdout",
     "output_type": "stream",
     "text": [
      "Matrix Addition:\n",
      "[[ 6  8]\n",
      " [10 12]]\n",
      "\n",
      "Matrix Multiplication:\n",
      "[[19 22]\n",
      " [43 50]]\n"
     ]
    }
   ],
   "source": [
    "def add_mult_matrices(matrix1, matrix2, operation):\n",
    "    if not isinstance(matrix1, np.ndarray) or not isinstance(matrix2, np.ndarray):\n",
    "        raise TypeError(\"Both inputs must be numpy arrays\")\n",
    "    \n",
    "    if operation not in ['add', 'multiply']:\n",
    "        raise ValueError(\"Operation must be 'add' or 'multiply'\")\n",
    "    \n",
    "    if operation == 'add':\n",
    "        if matrix1.shape != matrix2.shape:\n",
    "            raise ValueError(\"Matrices must have the same shape for addition\")\n",
    "        return matrix1 + matrix2\n",
    "    \n",
    "    if operation == 'multiply':\n",
    "        if matrix1.shape[1] != matrix2.shape[0]:\n",
    "            raise ValueError(\"For multiplication, the number of columns in the first matrix must equal the number of rows in the second matrix\")\n",
    "        return matrix1 @ matrix2\n",
    "\n",
    "matrix1 = np.array([[1, 2], [3, 4]])\n",
    "matrix2 = np.array([[5, 6], [7, 8]])\n",
    "\n",
    "print(\"Matrix Addition:\")\n",
    "print(add_mult_matrices(matrix1, matrix2, 'add'))\n",
    "\n",
    "print(\"\\nMatrix Multiplication:\")\n",
    "print(add_mult_matrices(matrix1, matrix2, 'multiply'))\n"
   ]
  },
  {
   "cell_type": "markdown",
   "id": "c8317235-81e1-4efb-8f31-2f857137f195",
   "metadata": {},
   "source": [
    "## övningsuppgifter 10.1.1\n",
    " ### matematik för yerkshögskolan"
   ]
  },
  {
   "cell_type": "code",
   "execution_count": 1,
   "id": "9657dfdb-1389-4f21-a3c7-64559140de89",
   "metadata": {},
   "outputs": [
    {
     "name": "stdout",
     "output_type": "stream",
     "text": [
      "Dimension of x: (2,)\n",
      "5x: [20 15]\n",
      "3x: [12  9]\n",
      "5x + 3x: [32 24]\n",
      "8x: [32 24]\n",
      "4x - x: [12  9]\n",
      "Transpose of x: [4 3]\n",
      "Dimension of transpose x: (2,)\n",
      "Is x + x^T defined? True\n",
      "||x|| (Norm of x): 5.0\n"
     ]
    }
   ],
   "source": [
    "import numpy as np\n",
    "\n",
    "# Defining vector x\n",
    "x = np.array([4, 3])\n",
    "\n",
    "# (a) What is the dimension of vector x?\n",
    "dimension_x = x.shape\n",
    "\n",
    "# (b) Calculate 5x\n",
    "result_5x = 5 * x\n",
    "\n",
    "# (c) Calculate 3x\n",
    "result_3x = 3 * x\n",
    "\n",
    "# (d) Calculate 5x + 3x\n",
    "result_5x_plus_3x = 5 * x + 3 * x\n",
    "\n",
    "# (e) Calculate 8x\n",
    "result_8x = 8 * x\n",
    "\n",
    "# (f) Calculate 4x - x\n",
    "result_4x_minus_x = 4 * x - x\n",
    "\n",
    "# (g) Calculate x^T (transpose of x) and its new dimension\n",
    "transpose_x = x.T\n",
    "dimension_transpose_x = transpose_x.shape\n",
    "\n",
    "# (h) Is x + x^T defined?\n",
    "# In NumPy, this is just element-wise addition, so it is defined.\n",
    "is_x_plus_xT_defined = True  # It is always defined in this case\n",
    "\n",
    "# (i) Calculate ||x|| (the norm of x)\n",
    "norm_x = np.linalg.norm(x)\n",
    "\n",
    "# Printing results\n",
    "print(\"Dimension of x:\", dimension_x)\n",
    "print(\"5x:\", result_5x)\n",
    "print(\"3x:\", result_3x)\n",
    "print(\"5x + 3x:\", result_5x_plus_3x)\n",
    "print(\"8x:\", result_8x)\n",
    "print(\"4x - x:\", result_4x_minus_x)\n",
    "print(\"Transpose of x:\", transpose_x)\n",
    "print(\"Dimension of transpose x:\", dimension_transpose_x)\n",
    "print(\"Is x + x^T defined?\", is_x_plus_xT_defined)\n",
    "print(\"||x|| (Norm of x):\", norm_x)\n"
   ]
  },
  {
   "cell_type": "markdown",
   "id": "fd0dec91-e46e-4321-9f1a-de17ff4598c9",
   "metadata": {},
   "source": [
    "## uppgift 10.1.2"
   ]
  },
  {
   "cell_type": "code",
   "execution_count": 4,
   "id": "b1e20905-ff2e-4c8a-9c3d-f62eb4aee0c5",
   "metadata": {},
   "outputs": [
    {
     "name": "stdout",
     "output_type": "stream",
     "text": [
      "Dimension of v: (4,)\n",
      "2v: [ 6 14  0 22]\n",
      "5v + 2v: [21 49  0 77]\n",
      "4v - 2v: [ 6 14  0 22]\n",
      "Transpose of v: [ 3  7  0 11]\n",
      "Dimension of transpose v: (4,)\n",
      "||v|| (Norm of v): 13.379088160259652\n"
     ]
    }
   ],
   "source": [
    "import numpy as np\n",
    "\n",
    "# Defining vector v\n",
    "v = np.array([3, 7, 0, 11])\n",
    "\n",
    "# (a) What is the dimension of vector v?\n",
    "dimension_v = v.shape\n",
    "\n",
    "# (b) Calculate 2v\n",
    "result_2v = 2 * v\n",
    "\n",
    "# (c) Calculate 5v + 2v\n",
    "result_5v_plus_2v = 5 * v + 2 * v\n",
    "\n",
    "# (d) Calculate 4v - 2v\n",
    "result_4v_minus_2v = 4 * v - 2 * v\n",
    "\n",
    "# (e) Calculate v^T (transpose of v) and its new dimension\n",
    "# For 1D vectors in NumPy, the transpose does not change the shape,\n",
    "# so transpose has no effect on 1D vectors.\n",
    "transpose_v = v.T\n",
    "dimension_transpose_v = transpose_v.shape\n",
    "\n",
    "# (f) Calculate ||v|| (the norm of v)\n",
    "norm_v = np.linalg.norm(v)\n",
    "\n",
    "# Printing results\n",
    "print(\"Dimension of v:\", dimension_v)\n",
    "print(\"2v:\", result_2v)\n",
    "print(\"5v + 2v:\", result_5v_plus_2v)\n",
    "print(\"4v - 2v:\", result_4v_minus_2v)\n",
    "print(\"Transpose of v:\", transpose_v)\n",
    "print(\"Dimension of transpose v:\", dimension_transpose_v)\n",
    "print(\"||v|| (Norm of v):\", norm_v)\n"
   ]
  },
  {
   "cell_type": "markdown",
   "id": "087fb807-a8e6-4527-a9a7-9fd5aa735bd5",
   "metadata": {},
   "source": [
    "## uppgift 10.1.3"
   ]
  },
  {
   "cell_type": "code",
   "execution_count": 6,
   "id": "8f328b66-aba3-4ea3-b1b8-b417c91d8136",
   "metadata": {},
   "outputs": [
    {
     "name": "stdout",
     "output_type": "stream",
     "text": [
      "||v1|| (Norm of v1): 7.14142842854285\n",
      "||v1 - v2|| (Norm of v1 - v2): 4.47213595499958\n"
     ]
    }
   ],
   "source": [
    "# Defining vectors v1 and v2\n",
    "v1 = np.array([4, 3, 1, 5])\n",
    "v2 = np.array([2, 3, 1, 1])\n",
    "\n",
    "# (a) Calculate ||v1|| (the norm of v1)\n",
    "norm_v1 = np.linalg.norm(v1)\n",
    "\n",
    "# (b) Calculate ||v1 - v2|| (the norm of the difference between v1 and v2)\n",
    "norm_v1_minus_v2 = np.linalg.norm(v1 - v2)\n",
    "\n",
    "# Printing results\n",
    "print(\"||v1|| (Norm of v1):\", norm_v1)\n",
    "print(\"||v1 - v2|| (Norm of v1 - v2):\", norm_v1_minus_v2)\n"
   ]
  },
  {
   "cell_type": "code",
   "execution_count": 7,
   "id": "91a53994-5eb3-4aa8-b69c-081ad56a927f",
   "metadata": {},
   "outputs": [],
   "source": [
    "## uppgift 10.2.4"
   ]
  },
  {
   "cell_type": "code",
   "execution_count": 8,
   "id": "afc7c4c8-3b7a-4109-8fb5-7bd74ab3d7b3",
   "metadata": {},
   "outputs": [
    {
     "name": "stdout",
     "output_type": "stream",
     "text": [
      "Matrix A:\n",
      " [[3 2 4]\n",
      " [2 3 8]\n",
      " [4 1 3]\n",
      " [7 1 5]]\n",
      "Vector b:\n",
      " [ 7  4 11  9]\n",
      "Solution x (values for x1, x2, x3):\n",
      " [ 2.13691417  4.83412322 -1.89152185]\n",
      "Verification (A * x):\n",
      " [ 8.51290153  3.64402317  7.70721432 10.33491311]\n"
     ]
    }
   ],
   "source": [
    "import numpy as np\n",
    "\n",
    "# Define matrix A (coefficients of x1, x2, x3)\n",
    "A = np.array([\n",
    "    [3, 2, 4],\n",
    "    [2, 3, 8],\n",
    "    [4, 1, 3],\n",
    "    [7, 1, 5]\n",
    "])\n",
    "\n",
    "# Define vector b (right-hand side of the equations)\n",
    "b = np.array([7, 4, 11, 9])\n",
    "\n",
    "# Solve the system of linear equations A * x = b\n",
    "x = np.linalg.solve(A.T @ A, A.T @ b)\n",
    "\n",
    "# Verifying the solution using matrix multiplication A * x\n",
    "Ax = A @ x\n",
    "\n",
    "# Print results\n",
    "print(\"Matrix A:\\n\", A)\n",
    "print(\"Vector b:\\n\", b)\n",
    "print(\"Solution x (values for x1, x2, x3):\\n\", x)\n",
    "print(\"Verification (A * x):\\n\", Ax)\n"
   ]
  },
  {
   "cell_type": "markdown",
   "id": "4eb17bab-b1bb-41fc-b6c3-84299d08043b",
   "metadata": {},
   "source": [
    "## Exercise 11"
   ]
  },
  {
   "cell_type": "code",
   "execution_count": 18,
   "id": "3d3e84c7-b2e8-4582-a1dc-b10fa3d6ddd1",
   "metadata": {},
   "outputs": [
    {
     "name": "stdout",
     "output_type": "stream",
     "text": [
      "Original Array (v1):\n",
      "[0 1 2 3]\n",
      "\n",
      "Sliced Array (v2):\n",
      "[2 3]\n",
      "\n",
      "Is v2 a view of v1? (Check base attribute):\n",
      "True\n",
      "\n",
      "After modifying v2:\n",
      "v1: [  0   1   2 123]\n",
      "v2: [  2 123]\n"
     ]
    }
   ],
   "source": [
    "v1 = np.arange(4)\n",
    "v2 = v1[-2:]\n",
    "\n",
    "print(\"Original Array (v1):\")\n",
    "print(v1)\n",
    "\n",
    "print(\"\\nSliced Array (v2):\")\n",
    "print(v2)\n",
    "\n",
    "# Checking if v2 is a view or copy of v1\n",
    "print(\"\\nIs v2 a view of v1? (Check base attribute):\")\n",
    "print(v2.base is v1)\n",
    "\n",
    "# Modify the last element of v2\n",
    "v2[-1] = 123\n",
    "print(\"\\nAfter modifying v2:\")\n",
    "print(\"v1:\", v1)\n",
    "print(\"v2:\", v2)\n"
   ]
  },
  {
   "cell_type": "code",
   "execution_count": null,
   "id": "52241a8a-5eda-4534-ac17-4c0f56e7b258",
   "metadata": {},
   "outputs": [],
   "source": [
    "# uppgift 10.1.2"
   ]
  }
 ],
 "metadata": {
  "kernelspec": {
   "display_name": "Python 3 (ipykernel)",
   "language": "python",
   "name": "python3"
  },
  "language_info": {
   "codemirror_mode": {
    "name": "ipython",
    "version": 3
   },
   "file_extension": ".py",
   "mimetype": "text/x-python",
   "name": "python",
   "nbconvert_exporter": "python",
   "pygments_lexer": "ipython3",
   "version": "3.12.4"
  }
 },
 "nbformat": 4,
 "nbformat_minor": 5
}
